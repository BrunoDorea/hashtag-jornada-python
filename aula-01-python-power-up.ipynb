{
 "cells": [
  {
   "cell_type": "markdown",
   "metadata": {},
   "source": [
    "# Python Power Up: Automação de Tarefas"
   ]
  },
  {
   "cell_type": "markdown",
   "metadata": {},
   "source": [
    "## Passo a passo do projeto\n",
    "- Passo 1: Entrar no site da empresa\n",
    "    - https://dlp.hashtagtreinamentos.com/python/intensivao/login\n",
    "- Passo 2: Fazer login no sistema\n",
    "- Passo 3: Importar a base de dados de produtos\n",
    "- Passo 4: Cadastrar 1 produto\n",
    "- Passo 5: Repetir o cadastro para todos os produtos"
   ]
  },
  {
   "cell_type": "code",
   "execution_count": null,
   "metadata": {},
   "outputs": [],
   "source": [
    "# %pip install pyautogui pandas"
   ]
  },
  {
   "cell_type": "code",
   "execution_count": null,
   "metadata": {},
   "outputs": [],
   "source": [
    "import pyautogui\n",
    "import time\n",
    "import pandas as pd\n",
    "import numpy\n",
    "import openpyxl"
   ]
  },
  {
   "cell_type": "code",
   "execution_count": null,
   "metadata": {},
   "outputs": [],
   "source": [
    "tabela = pd.read_csv('./aula_01-power_up/produtos.csv')"
   ]
  },
  {
   "cell_type": "code",
   "execution_count": null,
   "metadata": {},
   "outputs": [],
   "source": [
    "pyautogui.PAUSE = 0.3\n",
    "\n",
    "# Abrir o navegador\n",
    "pyautogui.press('win')\n",
    "pyautogui.write('chrome')\n",
    "pyautogui.press('enter')\n",
    "\n",
    "link = 'https://dlp.hashtagtreinamentos.com/python/intensivao/login'\n",
    "pyautogui.write(link)\n",
    "pyautogui.press('enter')\n",
    "\n",
    "time.sleep(5)"
   ]
  },
  {
   "cell_type": "code",
   "execution_count": null,
   "metadata": {},
   "outputs": [],
   "source": [
    "# Fazer login\n",
    "pyautogui.click(x=575, y=370)\n",
    "pyautogui.write('bruno@hashtagtreinamentos.com')\n",
    "pyautogui.press('tab')\n",
    "pyautogui.write('hashtag')\n",
    "pyautogui.press('enter')\n",
    "\n",
    "time.sleep(5)"
   ]
  },
  {
   "cell_type": "code",
   "execution_count": null,
   "metadata": {},
   "outputs": [],
   "source": [
    "for linha in tabela.index:\n",
    "    \n",
    "    pyautogui.click(x=570, y=245)\n",
    "    # Cadastrar produto\n",
    "    pyautogui.write(str(tabela.loc[linha, \"codigo\"]))\n",
    "    pyautogui.press('tab')\n",
    "\n",
    "    pyautogui.write(str(tabela.loc[linha, \"marca\"]))\n",
    "    pyautogui.press('tab')\n",
    "\n",
    "    pyautogui.write(str(tabela.loc[linha, \"tipo\"]))\n",
    "    pyautogui.press('tab')\n",
    "\n",
    "    pyautogui.write(str(tabela.loc[linha, \"categoria\"]))\n",
    "    pyautogui.press('tab')\n",
    "\n",
    "    pyautogui.write(str(tabela.loc[linha, \"preco_unitario\"]))\n",
    "    pyautogui.press('tab')\n",
    "\n",
    "    pyautogui.write(str(tabela.loc[linha, \"custo\"]))\n",
    "    pyautogui.press('tab')\n",
    "\n",
    "    obs = tabela.loc[linha, \"obs\"]\n",
    "    if not pd.isna(obs):\n",
    "        pyautogui.write(str(obs))\n",
    "\n",
    "    # Enviar \n",
    "    pyautogui.press('enter')\n",
    "\n",
    "    pyautogui.scroll(600)\n",
    "    pyautogui.click()"
   ]
  }
 ],
 "metadata": {
  "kernelspec": {
   "display_name": "Python 3",
   "language": "python",
   "name": "python3"
  },
  "language_info": {
   "codemirror_mode": {
    "name": "ipython",
    "version": 3
   },
   "file_extension": ".py",
   "mimetype": "text/x-python",
   "name": "python",
   "nbconvert_exporter": "python",
   "pygments_lexer": "ipython3",
   "version": "3.11.5"
  },
  "orig_nbformat": 4
 },
 "nbformat": 4,
 "nbformat_minor": 2
}
