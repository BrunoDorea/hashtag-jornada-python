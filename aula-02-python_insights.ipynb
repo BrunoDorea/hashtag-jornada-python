{
 "cells": [
  {
   "cell_type": "markdown",
   "metadata": {},
   "source": [
    "# Python Insights - Analisando Dados com Python"
   ]
  },
  {
   "cell_type": "markdown",
   "metadata": {},
   "source": [
    "## Passo a passo do projeto\n",
    "- Passo 1: Importar a base de dados\n",
    "- Passo 2: Visualizar a base de dados\n",
    "- Passo 3: Corrigir erros da base de dados\n",
    "- Passo 4: Primeira analise do cancelamento dos clientes\n",
    "- Passo 5: Analisar a causa do cancelamento dos produtos"
   ]
  },
  {
   "cell_type": "code",
   "execution_count": null,
   "metadata": {},
   "outputs": [],
   "source": [
    "# %pip install pandas numpy openpyxl plotly \n",
    "# %pip install nbformat"
   ]
  },
  {
   "cell_type": "code",
   "execution_count": null,
   "metadata": {},
   "outputs": [],
   "source": [
    "# %pip install --upgrade nbformat\n",
    "# %pip install ipykernel"
   ]
  },
  {
   "cell_type": "code",
   "execution_count": null,
   "metadata": {},
   "outputs": [],
   "source": [
    "import pandas as pd\n",
    "import plotly.express as px\n",
    "import plotly"
   ]
  },
  {
   "cell_type": "code",
   "execution_count": null,
   "metadata": {},
   "outputs": [],
   "source": [
    "tabela = pd.read_csv('./aula_02-python_insights/cancelamentos_sample.csv')\n",
    "tabela = tabela.drop(columns='CustomerID')\n",
    "# display(tabela)"
   ]
  },
  {
   "cell_type": "code",
   "execution_count": null,
   "metadata": {},
   "outputs": [],
   "source": [
    "tabela = tabela.dropna() # remover linhas com valores vazios\n",
    "# display(tabela.info())\n"
   ]
  },
  {
   "cell_type": "code",
   "execution_count": null,
   "metadata": {},
   "outputs": [],
   "source": [
    "display(tabela['cancelou'].value_counts())\n",
    "display(tabela['cancelou'].value_counts(normalize=True))\n",
    "display(tabela['cancelou'].value_counts(normalize=True).map('{:.1%}'.format))\n"
   ]
  },
  {
   "cell_type": "code",
   "execution_count": null,
   "metadata": {},
   "outputs": [],
   "source": [
    "display(tabela['duracao_contrato'].value_counts())\n",
    "display(tabela['duracao_contrato'].value_counts(normalize=True).map('{:.1%}'.format))"
   ]
  },
  {
   "cell_type": "code",
   "execution_count": null,
   "metadata": {},
   "outputs": [],
   "source": [
    "agrupamento = tabela.groupby('duracao_contrato').mean(numeric_only=True)\n",
    "\n",
    "display(agrupamento)"
   ]
  },
  {
   "cell_type": "code",
   "execution_count": null,
   "metadata": {},
   "outputs": [],
   "source": [
    "tabela = tabela[tabela[\"duracao_contrato\"] !=\"Monthly\"]\n",
    "tabela = tabela[tabela[\"ligacoes_callcenter\"] < 5]\n",
    "tabela = tabela[tabela[\"dias_atraso\"] <= 20]\n",
    "\n",
    "display(tabela[\"cancelou\"].value_counts())\n",
    "display(tabela[\"cancelou\"].value_counts(normalize=True).map(\"{:.1%}\".format))"
   ]
  },
  {
   "cell_type": "code",
   "execution_count": null,
   "metadata": {},
   "outputs": [],
   "source": [
    "for coluna in tabela.columns:\n",
    "    grafico = px.histogram(tabela, x=coluna, color='cancelou')\n",
    "    grafico.show()\n",
    "    "
   ]
  }
 ],
 "metadata": {
  "kernelspec": {
   "display_name": "Python 3",
   "language": "python",
   "name": "python3"
  },
  "language_info": {
   "codemirror_mode": {
    "name": "ipython",
    "version": 3
   },
   "file_extension": ".py",
   "mimetype": "text/x-python",
   "name": "python",
   "nbconvert_exporter": "python",
   "pygments_lexer": "ipython3",
   "version": "3.11.5"
  },
  "orig_nbformat": 4
 },
 "nbformat": 4,
 "nbformat_minor": 2
}
